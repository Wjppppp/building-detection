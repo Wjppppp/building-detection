{
 "cells": [
  {
   "cell_type": "code",
   "execution_count": 10,
   "id": "83612329",
   "metadata": {},
   "outputs": [],
   "source": [
    "from ensemble_boxes import *\n",
    "\n",
    "boxes_list = [[\n",
    "    [0.00, 0.51, 0.81, 0.91],\n",
    "    [0.10, 0.31, 0.71, 0.61],\n",
    "    [0.01, 0.32, 0.83, 0.93],\n",
    "    [0.02, 0.53, 0.11, 0.94],\n",
    "    [0.03, 0.24, 0.12, 0.35],\n",
    "],[\n",
    "    [0.04, 0.56, 0.84, 0.92],\n",
    "    [0.12, 0.33, 0.72, 0.64],\n",
    "    [0.38, 0.66, 0.79, 0.95],\n",
    "    [0.08, 0.49, 0.21, 0.89],\n",
    "]]\n",
    "scores_list = [[0.9, 0.8, 0.2, 0.4, 0.7], [0.5, 0.8, 0.7, 0.3]]\n",
    "labels_list = [[0, 1, 0, 1, 1], [1, 1, 1, 0]]\n",
    "weights = [2, 1]\n",
    "\n",
    "iou_thr = 0.5\n",
    "skip_box_thr = 0.0001\n",
    "sigma = 0.1\n",
    "\n",
    "# boxes, scores, labels = nms(boxes_list, scores_list, labels_list, weights=weights, iou_thr=iou_thr)\n",
    "# boxes, scores, labels = soft_nms(boxes_list, scores_list, labels_list, weights=weights, iou_thr=iou_thr, sigma=sigma, thresh=skip_box_thr)\n",
    "# boxes, scores, labels = non_maximum_weighted(boxes_list, scores_list, labels_list, weights=weights, iou_thr=iou_thr, skip_box_thr=skip_box_thr)\n",
    "boxes, scores, labels = weighted_boxes_fusion(boxes_list, scores_list, labels_list, weights=weights, iou_thr=iou_thr, skip_box_thr=skip_box_thr)"
   ]
  },
  {
   "cell_type": "code",
   "execution_count": 11,
   "id": "9468ae43",
   "metadata": {},
   "outputs": [
    {
     "name": "stdout",
     "output_type": "stream",
     "text": [
      "[[0.10666665 0.31666666 0.71333331 0.62      ]\n",
      " [0.00181818 0.47545454 0.8136363  0.91363633]\n",
      " [0.03       0.24       0.12       0.35      ]\n",
      " [0.02       0.53       0.11       0.94      ]\n",
      " [0.38       0.66       0.79       0.95      ]\n",
      " [0.04       0.56       0.84       0.92      ]\n",
      " [0.08       0.49       0.21       0.89      ]]\n",
      "[0.80000003 0.73333335 0.46666667 0.26666667 0.23333333 0.16666667\n",
      " 0.1       ]\n",
      "[1. 0. 1. 1. 1. 1. 0.]\n"
     ]
    }
   ],
   "source": [
    "print(boxes)\n",
    "print(scores)\n",
    "print(labels)"
   ]
  },
  {
   "cell_type": "code",
   "execution_count": null,
   "id": "8b1175e7",
   "metadata": {},
   "outputs": [],
   "source": []
  }
 ],
 "metadata": {
  "kernelspec": {
   "display_name": "Python 3",
   "language": "python",
   "name": "python3"
  },
  "language_info": {
   "codemirror_mode": {
    "name": "ipython",
    "version": 3
   },
   "file_extension": ".py",
   "mimetype": "text/x-python",
   "name": "python",
   "nbconvert_exporter": "python",
   "pygments_lexer": "ipython3",
   "version": "3.6.9"
  }
 },
 "nbformat": 4,
 "nbformat_minor": 5
}
